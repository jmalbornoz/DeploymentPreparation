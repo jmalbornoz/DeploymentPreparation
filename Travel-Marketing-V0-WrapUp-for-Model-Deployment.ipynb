{
 "cells": [
  {
   "cell_type": "markdown",
   "metadata": {},
   "source": [
    "# V.- Machine Learning Pipeline: Wrapping up for Deployment\n",
    "\n",
    "\n",
    "In the previous notebooks, we worked through the typical Machine Learning pipeline steps to build a classification model that allows us to predict repeat customers for a travel agency. **The purpose of these notebooks is to provide an idea of the steps that must be covered when preparing a machine learning model for deployment.**\n",
    "\n",
    "We want to deploy our model in production; therefore, we need to write code in a very specific way.\n",
    "\n",
    "Here we will summarise the key pieces of code that we need to take forward to deploy this particular project in production. **Very importantly, we will ensure that we are able to reproduce the results obtained in ther previous notebooks!** This is a very important consideration when deploying a model.\n",
    "\n",
    "Let's get started."
   ]
  },
  {
   "cell_type": "markdown",
   "metadata": {},
   "source": [
    "### Setting the seed\n",
    "\n",
    "It is important to note, that we are pre-processing data with the idea of deploying the model. Therefore, from now on, for each step that includes some element of randomness, it is extremely important that we **set the seed**. This way, we can obtain reproducibility between our research and our development code.\n",
    "\n",
    "Let's go ahead and load the dataset."
   ]
  },
  {
   "cell_type": "code",
   "execution_count": 1,
   "metadata": {},
   "outputs": [],
   "source": [
    "# to handle datasets\n",
    "import pandas as pd\n",
    "import numpy as np\n",
    "\n",
    "# to split data into train and test set\n",
    "from sklearn.model_selection import train_test_split\n",
    "\n",
    "# to evaluate the models\n",
    "# to assess model performance\n",
    "from sklearn.metrics import log_loss\n",
    "from sklearn.metrics import precision_score\n",
    "from sklearn.metrics import recall_score\n",
    "from sklearn.metrics import precision_recall_curve\n",
    "from sklearn.metrics import f1_score\n",
    "\n",
    "# to persist the model and the scaler\n",
    "import joblib \n",
    "\n",
    "# pretty print\n",
    "from pprint import pprint\n",
    "\n",
    "# maximum number of dataframe rows and columns displayed\n",
    "pd.set_option('display.max_rows', 500)\n",
    "pd.set_option('display.max_columns', None)\n",
    "\n",
    "# random seed\n",
    "RANDOM_STATE = 801\n",
    "pd.options.mode.chained_assignment = None\n",
    "\n",
    "import warnings\n",
    "warnings.simplefilter(action='ignore')"
   ]
  },
  {
   "cell_type": "markdown",
   "metadata": {},
   "source": [
    "# 1.- Load data"
   ]
  },
  {
   "cell_type": "code",
   "execution_count": 2,
   "metadata": {},
   "outputs": [
    {
     "name": "stdout",
     "output_type": "stream",
     "text": [
      "(20000, 18)\n"
     ]
    },
    {
     "data": {
      "text/html": [
       "<div>\n",
       "<style scoped>\n",
       "    .dataframe tbody tr th:only-of-type {\n",
       "        vertical-align: middle;\n",
       "    }\n",
       "\n",
       "    .dataframe tbody tr th {\n",
       "        vertical-align: top;\n",
       "    }\n",
       "\n",
       "    .dataframe thead th {\n",
       "        text-align: right;\n",
       "    }\n",
       "</style>\n",
       "<table border=\"1\" class=\"dataframe\">\n",
       "  <thead>\n",
       "    <tr style=\"text-align: right;\">\n",
       "      <th></th>\n",
       "      <th>repeat</th>\n",
       "      <th>Gender</th>\n",
       "      <th>Age_Range</th>\n",
       "      <th>Income_Range</th>\n",
       "      <th>Occupation</th>\n",
       "      <th>Household_Type</th>\n",
       "      <th>Length_of_Residence</th>\n",
       "      <th>Home_Value_Range</th>\n",
       "      <th>Wealth_Rank</th>\n",
       "      <th>Mail_Buyer</th>\n",
       "      <th>Ecommerce_Behav_Rank</th>\n",
       "      <th>Upscale_Retail_Shopper</th>\n",
       "      <th>Premium_Bank_Card</th>\n",
       "      <th>Books_Behav</th>\n",
       "      <th>Family_Behav</th>\n",
       "      <th>Health_Magazine</th>\n",
       "      <th>Personal_Travel</th>\n",
       "      <th>Sporting_Goods_Interest</th>\n",
       "    </tr>\n",
       "  </thead>\n",
       "  <tbody>\n",
       "    <tr>\n",
       "      <th>0</th>\n",
       "      <td>0</td>\n",
       "      <td>M</td>\n",
       "      <td>45-54 Years Old</td>\n",
       "      <td>$100,000 - $124,999</td>\n",
       "      <td>Executive/Administrator</td>\n",
       "      <td>Adult Male &amp; Adult Female Present</td>\n",
       "      <td>In the 6th Year</td>\n",
       "      <td>$250,000 - $300,000</td>\n",
       "      <td>8</td>\n",
       "      <td></td>\n",
       "      <td>9</td>\n",
       "      <td>Y</td>\n",
       "      <td>Y</td>\n",
       "      <td>1</td>\n",
       "      <td></td>\n",
       "      <td>0</td>\n",
       "      <td>Y</td>\n",
       "      <td>U</td>\n",
       "    </tr>\n",
       "    <tr>\n",
       "      <th>1</th>\n",
       "      <td>0</td>\n",
       "      <td>M</td>\n",
       "      <td>45-54 Years Old</td>\n",
       "      <td>$75,000 - $99,999</td>\n",
       "      <td>Unknown</td>\n",
       "      <td>Adult Male &amp; Adult Female Present</td>\n",
       "      <td>In the 14th Year</td>\n",
       "      <td>$150,000 - $200,000</td>\n",
       "      <td>8</td>\n",
       "      <td></td>\n",
       "      <td>5</td>\n",
       "      <td>U</td>\n",
       "      <td>U</td>\n",
       "      <td>0</td>\n",
       "      <td></td>\n",
       "      <td>0</td>\n",
       "      <td>U</td>\n",
       "      <td>U</td>\n",
       "    </tr>\n",
       "    <tr>\n",
       "      <th>2</th>\n",
       "      <td>0</td>\n",
       "      <td>M</td>\n",
       "      <td>24-34 Years Old</td>\n",
       "      <td>$100,000 - $124,999</td>\n",
       "      <td>Unknown</td>\n",
       "      <td>Adult Male &amp; Adult Female Present</td>\n",
       "      <td>In the 2nd Year</td>\n",
       "      <td>$600,000 - $650,000</td>\n",
       "      <td>9</td>\n",
       "      <td></td>\n",
       "      <td>8</td>\n",
       "      <td></td>\n",
       "      <td></td>\n",
       "      <td>2</td>\n",
       "      <td></td>\n",
       "      <td>1</td>\n",
       "      <td></td>\n",
       "      <td></td>\n",
       "    </tr>\n",
       "    <tr>\n",
       "      <th>3</th>\n",
       "      <td>1</td>\n",
       "      <td>M</td>\n",
       "      <td>24-34 Years Old</td>\n",
       "      <td>$75,000 - $99,999</td>\n",
       "      <td>Unknown</td>\n",
       "      <td>Adult Male &amp; Adult Female Present</td>\n",
       "      <td>In the 6th Year</td>\n",
       "      <td>$100,000 - $150,000</td>\n",
       "      <td>8</td>\n",
       "      <td></td>\n",
       "      <td>5</td>\n",
       "      <td>U</td>\n",
       "      <td>U</td>\n",
       "      <td>3</td>\n",
       "      <td></td>\n",
       "      <td>2</td>\n",
       "      <td>U</td>\n",
       "      <td>U</td>\n",
       "    </tr>\n",
       "    <tr>\n",
       "      <th>4</th>\n",
       "      <td>0</td>\n",
       "      <td>M</td>\n",
       "      <td>55-64 Years Old</td>\n",
       "      <td>$125,000 - $149,999</td>\n",
       "      <td>Unknown</td>\n",
       "      <td>Unknown</td>\n",
       "      <td>In the 1st Year</td>\n",
       "      <td>Unknown</td>\n",
       "      <td>3</td>\n",
       "      <td></td>\n",
       "      <td>10</td>\n",
       "      <td></td>\n",
       "      <td></td>\n",
       "      <td>0</td>\n",
       "      <td></td>\n",
       "      <td>0</td>\n",
       "      <td></td>\n",
       "      <td></td>\n",
       "    </tr>\n",
       "  </tbody>\n",
       "</table>\n",
       "</div>"
      ],
      "text/plain": [
       "   repeat Gender        Age_Range         Income_Range  \\\n",
       "0       0      M  45-54 Years Old  $100,000 - $124,999   \n",
       "1       0      M  45-54 Years Old    $75,000 - $99,999   \n",
       "2       0      M  24-34 Years Old  $100,000 - $124,999   \n",
       "3       1      M  24-34 Years Old    $75,000 - $99,999   \n",
       "4       0      M  55-64 Years Old  $125,000 - $149,999   \n",
       "\n",
       "                Occupation                     Household_Type  \\\n",
       "0  Executive/Administrator  Adult Male & Adult Female Present   \n",
       "1                  Unknown  Adult Male & Adult Female Present   \n",
       "2                  Unknown  Adult Male & Adult Female Present   \n",
       "3                  Unknown  Adult Male & Adult Female Present   \n",
       "4                  Unknown                            Unknown   \n",
       "\n",
       "  Length_of_Residence     Home_Value_Range Wealth_Rank Mail_Buyer  \\\n",
       "0     In the 6th Year  $250,000 - $300,000           8              \n",
       "1    In the 14th Year  $150,000 - $200,000           8              \n",
       "2     In the 2nd Year  $600,000 - $650,000           9              \n",
       "3     In the 6th Year  $100,000 - $150,000           8              \n",
       "4     In the 1st Year              Unknown           3              \n",
       "\n",
       "  Ecommerce_Behav_Rank Upscale_Retail_Shopper Premium_Bank_Card Books_Behav  \\\n",
       "0                    9                      Y                 Y           1   \n",
       "1                    5                      U                 U           0   \n",
       "2                    8                                                    2   \n",
       "3                    5                      U                 U           3   \n",
       "4                   10                                                    0   \n",
       "\n",
       "  Family_Behav Health_Magazine Personal_Travel Sporting_Goods_Interest  \n",
       "0                            0               Y                       U  \n",
       "1                            0               U                       U  \n",
       "2                            1                                          \n",
       "3                            2               U                       U  \n",
       "4                            0                                          "
      ]
     },
     "execution_count": 2,
     "metadata": {},
     "output_type": "execute_result"
    }
   ],
   "source": [
    "# load dataset\n",
    "data0 = pd.read_csv('travelChurn_20k.csv')\n",
    "print(data0.shape)\n",
    "data0.head()"
   ]
  },
  {
   "cell_type": "code",
   "execution_count": 3,
   "metadata": {},
   "outputs": [
    {
     "data": {
      "text/plain": [
       "Index(['repeat', 'Gender', 'Age_Range', 'Income_Range', 'Occupation',\n",
       "       'Household_Type', 'Length_of_Residence', 'Home_Value_Range',\n",
       "       'Wealth_Rank', 'Mail_Buyer', 'Ecommerce_Behav_Rank',\n",
       "       'Upscale_Retail_Shopper', 'Premium_Bank_Card', 'Books_Behav',\n",
       "       'Family_Behav', 'Health_Magazine', 'Personal_Travel',\n",
       "       'Sporting_Goods_Interest'],\n",
       "      dtype='object')"
      ]
     },
     "execution_count": 3,
     "metadata": {},
     "output_type": "execute_result"
    }
   ],
   "source": [
    "data0.columns"
   ]
  },
  {
   "cell_type": "code",
   "execution_count": 4,
   "metadata": {},
   "outputs": [
    {
     "data": {
      "text/plain": [
       "repeat                      int64\n",
       "Gender                     object\n",
       "Age_Range                  object\n",
       "Income_Range               object\n",
       "Occupation                 object\n",
       "Household_Type             object\n",
       "Length_of_Residence        object\n",
       "Home_Value_Range           object\n",
       "Wealth_Rank                object\n",
       "Mail_Buyer                 object\n",
       "Ecommerce_Behav_Rank       object\n",
       "Upscale_Retail_Shopper     object\n",
       "Premium_Bank_Card          object\n",
       "Books_Behav                object\n",
       "Family_Behav               object\n",
       "Health_Magazine            object\n",
       "Personal_Travel            object\n",
       "Sporting_Goods_Interest    object\n",
       "dtype: object"
      ]
     },
     "execution_count": 4,
     "metadata": {},
     "output_type": "execute_result"
    }
   ],
   "source": [
    "data0.dtypes"
   ]
  },
  {
   "cell_type": "markdown",
   "metadata": {},
   "source": [
    "# 2.- Separate dataset into train and test"
   ]
  },
  {
   "cell_type": "code",
   "execution_count": 5,
   "metadata": {},
   "outputs": [
    {
     "data": {
      "text/plain": [
       "((18000, 18), (2000, 18))"
      ]
     },
     "execution_count": 5,
     "metadata": {},
     "output_type": "execute_result"
    }
   ],
   "source": [
    "X_train, X_test, y_train, y_test = train_test_split(data0, data0['repeat'], test_size=0.1, \n",
    "                                                    random_state=RANDOM_STATE)\n",
    "\n",
    "X_train.shape, X_test.shape"
   ]
  },
  {
   "cell_type": "code",
   "execution_count": 6,
   "metadata": {},
   "outputs": [
    {
     "data": {
      "text/html": [
       "<div>\n",
       "<style scoped>\n",
       "    .dataframe tbody tr th:only-of-type {\n",
       "        vertical-align: middle;\n",
       "    }\n",
       "\n",
       "    .dataframe tbody tr th {\n",
       "        vertical-align: top;\n",
       "    }\n",
       "\n",
       "    .dataframe thead th {\n",
       "        text-align: right;\n",
       "    }\n",
       "</style>\n",
       "<table border=\"1\" class=\"dataframe\">\n",
       "  <thead>\n",
       "    <tr style=\"text-align: right;\">\n",
       "      <th></th>\n",
       "      <th>repeat</th>\n",
       "      <th>Gender</th>\n",
       "      <th>Age_Range</th>\n",
       "      <th>Income_Range</th>\n",
       "      <th>Occupation</th>\n",
       "      <th>Household_Type</th>\n",
       "      <th>Length_of_Residence</th>\n",
       "      <th>Home_Value_Range</th>\n",
       "      <th>Wealth_Rank</th>\n",
       "      <th>Mail_Buyer</th>\n",
       "      <th>Ecommerce_Behav_Rank</th>\n",
       "      <th>Upscale_Retail_Shopper</th>\n",
       "      <th>Premium_Bank_Card</th>\n",
       "      <th>Books_Behav</th>\n",
       "      <th>Family_Behav</th>\n",
       "      <th>Health_Magazine</th>\n",
       "      <th>Personal_Travel</th>\n",
       "      <th>Sporting_Goods_Interest</th>\n",
       "    </tr>\n",
       "  </thead>\n",
       "  <tbody>\n",
       "    <tr>\n",
       "      <th>18239</th>\n",
       "      <td>0</td>\n",
       "      <td>M</td>\n",
       "      <td>45-54 Years Old</td>\n",
       "      <td>$100,000 - $124,999</td>\n",
       "      <td>Executive/Administrator</td>\n",
       "      <td>Adult Male &amp; Adult Female Present With Children</td>\n",
       "      <td>In the 11th Year</td>\n",
       "      <td>$200,000 - $250,000</td>\n",
       "      <td></td>\n",
       "      <td>2</td>\n",
       "      <td></td>\n",
       "      <td>Y</td>\n",
       "      <td>U</td>\n",
       "      <td></td>\n",
       "      <td>0</td>\n",
       "      <td></td>\n",
       "      <td>U</td>\n",
       "      <td>U</td>\n",
       "    </tr>\n",
       "    <tr>\n",
       "      <th>6282</th>\n",
       "      <td>0</td>\n",
       "      <td>F</td>\n",
       "      <td>45-54 Years Old</td>\n",
       "      <td>$100,000 - $124,999</td>\n",
       "      <td>Unknown</td>\n",
       "      <td>Adult Male &amp; Adult Female Present</td>\n",
       "      <td>15+ Years</td>\n",
       "      <td>$150,000 - $200,000</td>\n",
       "      <td>7</td>\n",
       "      <td>2</td>\n",
       "      <td>8</td>\n",
       "      <td>Y</td>\n",
       "      <td>U</td>\n",
       "      <td>2</td>\n",
       "      <td>0</td>\n",
       "      <td>2</td>\n",
       "      <td>U</td>\n",
       "      <td>U</td>\n",
       "    </tr>\n",
       "    <tr>\n",
       "      <th>18641</th>\n",
       "      <td>0</td>\n",
       "      <td>F</td>\n",
       "      <td>55-64 Years Old</td>\n",
       "      <td>$40,000 - $49,999</td>\n",
       "      <td>Unknown</td>\n",
       "      <td>Adult Male &amp; Adult Female Present With Children</td>\n",
       "      <td>15+ Years</td>\n",
       "      <td>$150,000 - $200,000</td>\n",
       "      <td></td>\n",
       "      <td>2</td>\n",
       "      <td></td>\n",
       "      <td>Y</td>\n",
       "      <td>U</td>\n",
       "      <td></td>\n",
       "      <td>4</td>\n",
       "      <td></td>\n",
       "      <td>U</td>\n",
       "      <td>U</td>\n",
       "    </tr>\n",
       "    <tr>\n",
       "      <th>7354</th>\n",
       "      <td>0</td>\n",
       "      <td>M</td>\n",
       "      <td>45-54 Years Old</td>\n",
       "      <td>$125,000 - $149,999</td>\n",
       "      <td>Executive/Administrator</td>\n",
       "      <td>Adult Male &amp; Adult Female Present</td>\n",
       "      <td>15+ Years</td>\n",
       "      <td>$200,000 - $250,000</td>\n",
       "      <td>8</td>\n",
       "      <td>1</td>\n",
       "      <td>10</td>\n",
       "      <td>Y</td>\n",
       "      <td>U</td>\n",
       "      <td>5</td>\n",
       "      <td>2</td>\n",
       "      <td>4</td>\n",
       "      <td>Y</td>\n",
       "      <td>U</td>\n",
       "    </tr>\n",
       "    <tr>\n",
       "      <th>5691</th>\n",
       "      <td>0</td>\n",
       "      <td>F</td>\n",
       "      <td>55-64 Years Old</td>\n",
       "      <td>$50,000 - $74,999</td>\n",
       "      <td>Unknown</td>\n",
       "      <td>Adult Male &amp; Adult Female Present</td>\n",
       "      <td>15+ Years</td>\n",
       "      <td>$50,000 - $100,000</td>\n",
       "      <td>3</td>\n",
       "      <td>2</td>\n",
       "      <td>5</td>\n",
       "      <td>U</td>\n",
       "      <td>U</td>\n",
       "      <td>0</td>\n",
       "      <td>0</td>\n",
       "      <td>0</td>\n",
       "      <td>U</td>\n",
       "      <td>U</td>\n",
       "    </tr>\n",
       "  </tbody>\n",
       "</table>\n",
       "</div>"
      ],
      "text/plain": [
       "       repeat Gender        Age_Range         Income_Range  \\\n",
       "18239       0      M  45-54 Years Old  $100,000 - $124,999   \n",
       "6282        0      F  45-54 Years Old  $100,000 - $124,999   \n",
       "18641       0      F  55-64 Years Old    $40,000 - $49,999   \n",
       "7354        0      M  45-54 Years Old  $125,000 - $149,999   \n",
       "5691        0      F  55-64 Years Old    $50,000 - $74,999   \n",
       "\n",
       "                    Occupation  \\\n",
       "18239  Executive/Administrator   \n",
       "6282                   Unknown   \n",
       "18641                  Unknown   \n",
       "7354   Executive/Administrator   \n",
       "5691                   Unknown   \n",
       "\n",
       "                                        Household_Type Length_of_Residence  \\\n",
       "18239  Adult Male & Adult Female Present With Children    In the 11th Year   \n",
       "6282                 Adult Male & Adult Female Present           15+ Years   \n",
       "18641  Adult Male & Adult Female Present With Children           15+ Years   \n",
       "7354                 Adult Male & Adult Female Present           15+ Years   \n",
       "5691                 Adult Male & Adult Female Present           15+ Years   \n",
       "\n",
       "          Home_Value_Range Wealth_Rank Mail_Buyer Ecommerce_Behav_Rank  \\\n",
       "18239  $200,000 - $250,000                      2                        \n",
       "6282   $150,000 - $200,000           7          2                    8   \n",
       "18641  $150,000 - $200,000                      2                        \n",
       "7354   $200,000 - $250,000           8          1                   10   \n",
       "5691    $50,000 - $100,000           3          2                    5   \n",
       "\n",
       "      Upscale_Retail_Shopper Premium_Bank_Card Books_Behav Family_Behav  \\\n",
       "18239                      Y                 U                        0   \n",
       "6282                       Y                 U           2            0   \n",
       "18641                      Y                 U                        4   \n",
       "7354                       Y                 U           5            2   \n",
       "5691                       U                 U           0            0   \n",
       "\n",
       "      Health_Magazine Personal_Travel Sporting_Goods_Interest  \n",
       "18239                               U                       U  \n",
       "6282                2               U                       U  \n",
       "18641                               U                       U  \n",
       "7354                4               Y                       U  \n",
       "5691                0               U                       U  "
      ]
     },
     "execution_count": 6,
     "metadata": {},
     "output_type": "execute_result"
    }
   ],
   "source": [
    "X_train.head()"
   ]
  },
  {
   "cell_type": "code",
   "execution_count": 7,
   "metadata": {},
   "outputs": [
    {
     "data": {
      "text/html": [
       "<div>\n",
       "<style scoped>\n",
       "    .dataframe tbody tr th:only-of-type {\n",
       "        vertical-align: middle;\n",
       "    }\n",
       "\n",
       "    .dataframe tbody tr th {\n",
       "        vertical-align: top;\n",
       "    }\n",
       "\n",
       "    .dataframe thead th {\n",
       "        text-align: right;\n",
       "    }\n",
       "</style>\n",
       "<table border=\"1\" class=\"dataframe\">\n",
       "  <thead>\n",
       "    <tr style=\"text-align: right;\">\n",
       "      <th></th>\n",
       "      <th>repeat</th>\n",
       "      <th>Gender</th>\n",
       "      <th>Age_Range</th>\n",
       "      <th>Income_Range</th>\n",
       "      <th>Occupation</th>\n",
       "      <th>Household_Type</th>\n",
       "      <th>Length_of_Residence</th>\n",
       "      <th>Home_Value_Range</th>\n",
       "      <th>Wealth_Rank</th>\n",
       "      <th>Mail_Buyer</th>\n",
       "      <th>Ecommerce_Behav_Rank</th>\n",
       "      <th>Upscale_Retail_Shopper</th>\n",
       "      <th>Premium_Bank_Card</th>\n",
       "      <th>Books_Behav</th>\n",
       "      <th>Family_Behav</th>\n",
       "      <th>Health_Magazine</th>\n",
       "      <th>Personal_Travel</th>\n",
       "      <th>Sporting_Goods_Interest</th>\n",
       "    </tr>\n",
       "  </thead>\n",
       "  <tbody>\n",
       "    <tr>\n",
       "      <th>2384</th>\n",
       "      <td>1</td>\n",
       "      <td>M</td>\n",
       "      <td>35-44 Years Old</td>\n",
       "      <td>$40,000 - $49,999</td>\n",
       "      <td>Unknown</td>\n",
       "      <td>Adult Male Present</td>\n",
       "      <td>In the 4th Year</td>\n",
       "      <td>$100,000 - $150,000</td>\n",
       "      <td>1</td>\n",
       "      <td>1</td>\n",
       "      <td>5</td>\n",
       "      <td></td>\n",
       "      <td></td>\n",
       "      <td>0</td>\n",
       "      <td>0</td>\n",
       "      <td>0</td>\n",
       "      <td></td>\n",
       "      <td></td>\n",
       "    </tr>\n",
       "    <tr>\n",
       "      <th>3408</th>\n",
       "      <td>0</td>\n",
       "      <td>M</td>\n",
       "      <td>45-54 Years Old</td>\n",
       "      <td>$100,000 - $124,999</td>\n",
       "      <td>Unknown</td>\n",
       "      <td>Adult Male Present</td>\n",
       "      <td>In the 9th Year</td>\n",
       "      <td>$150,000 - $200,000</td>\n",
       "      <td>9</td>\n",
       "      <td>1</td>\n",
       "      <td>9</td>\n",
       "      <td>Y</td>\n",
       "      <td>U</td>\n",
       "      <td>0</td>\n",
       "      <td>0</td>\n",
       "      <td>0</td>\n",
       "      <td>U</td>\n",
       "      <td>U</td>\n",
       "    </tr>\n",
       "    <tr>\n",
       "      <th>16620</th>\n",
       "      <td>0</td>\n",
       "      <td>M</td>\n",
       "      <td>45-54 Years Old</td>\n",
       "      <td>$75,000 - $99,999</td>\n",
       "      <td>Executive/Administrator</td>\n",
       "      <td>Adult Male &amp; Adult Female Present</td>\n",
       "      <td>In the 9th Year</td>\n",
       "      <td>$50,000 - $100,000</td>\n",
       "      <td>1</td>\n",
       "      <td>1</td>\n",
       "      <td>9</td>\n",
       "      <td>U</td>\n",
       "      <td>U</td>\n",
       "      <td>2</td>\n",
       "      <td>1</td>\n",
       "      <td>4</td>\n",
       "      <td>U</td>\n",
       "      <td>U</td>\n",
       "    </tr>\n",
       "    <tr>\n",
       "      <th>12534</th>\n",
       "      <td>0</td>\n",
       "      <td>M</td>\n",
       "      <td>45-54 Years Old</td>\n",
       "      <td>$75,000 - $99,999</td>\n",
       "      <td>Executive/Administrator</td>\n",
       "      <td>Adult Male &amp; Adult Female Present</td>\n",
       "      <td>15+ Years</td>\n",
       "      <td>$50,000 - $100,000</td>\n",
       "      <td>3</td>\n",
       "      <td>1</td>\n",
       "      <td>9</td>\n",
       "      <td>U</td>\n",
       "      <td>U</td>\n",
       "      <td>0</td>\n",
       "      <td>2</td>\n",
       "      <td>0</td>\n",
       "      <td>U</td>\n",
       "      <td>U</td>\n",
       "    </tr>\n",
       "    <tr>\n",
       "      <th>2713</th>\n",
       "      <td>0</td>\n",
       "      <td>M</td>\n",
       "      <td>35-44 Years Old</td>\n",
       "      <td>$250,000+</td>\n",
       "      <td>Unknown</td>\n",
       "      <td>Adult Male Present</td>\n",
       "      <td>In the 6th Year</td>\n",
       "      <td>$100,000 - $150,000</td>\n",
       "      <td>3</td>\n",
       "      <td>1</td>\n",
       "      <td>10</td>\n",
       "      <td>U</td>\n",
       "      <td>U</td>\n",
       "      <td>1</td>\n",
       "      <td>0</td>\n",
       "      <td>0</td>\n",
       "      <td>U</td>\n",
       "      <td>U</td>\n",
       "    </tr>\n",
       "  </tbody>\n",
       "</table>\n",
       "</div>"
      ],
      "text/plain": [
       "       repeat Gender        Age_Range         Income_Range  \\\n",
       "2384        1      M  35-44 Years Old    $40,000 - $49,999   \n",
       "3408        0      M  45-54 Years Old  $100,000 - $124,999   \n",
       "16620       0      M  45-54 Years Old    $75,000 - $99,999   \n",
       "12534       0      M  45-54 Years Old    $75,000 - $99,999   \n",
       "2713        0      M  35-44 Years Old            $250,000+   \n",
       "\n",
       "                    Occupation                     Household_Type  \\\n",
       "2384                   Unknown                 Adult Male Present   \n",
       "3408                   Unknown                 Adult Male Present   \n",
       "16620  Executive/Administrator  Adult Male & Adult Female Present   \n",
       "12534  Executive/Administrator  Adult Male & Adult Female Present   \n",
       "2713                   Unknown                 Adult Male Present   \n",
       "\n",
       "      Length_of_Residence     Home_Value_Range Wealth_Rank Mail_Buyer  \\\n",
       "2384      In the 4th Year  $100,000 - $150,000           1          1   \n",
       "3408      In the 9th Year  $150,000 - $200,000           9          1   \n",
       "16620     In the 9th Year   $50,000 - $100,000           1          1   \n",
       "12534           15+ Years   $50,000 - $100,000           3          1   \n",
       "2713      In the 6th Year  $100,000 - $150,000           3          1   \n",
       "\n",
       "      Ecommerce_Behav_Rank Upscale_Retail_Shopper Premium_Bank_Card  \\\n",
       "2384                     5                                            \n",
       "3408                     9                      Y                 U   \n",
       "16620                    9                      U                 U   \n",
       "12534                    9                      U                 U   \n",
       "2713                    10                      U                 U   \n",
       "\n",
       "      Books_Behav Family_Behav Health_Magazine Personal_Travel  \\\n",
       "2384            0            0               0                   \n",
       "3408            0            0               0               U   \n",
       "16620           2            1               4               U   \n",
       "12534           0            2               0               U   \n",
       "2713            1            0               0               U   \n",
       "\n",
       "      Sporting_Goods_Interest  \n",
       "2384                           \n",
       "3408                        U  \n",
       "16620                       U  \n",
       "12534                       U  \n",
       "2713                        U  "
      ]
     },
     "execution_count": 7,
     "metadata": {},
     "output_type": "execute_result"
    }
   ],
   "source": [
    "X_test.head()"
   ]
  },
  {
   "cell_type": "code",
   "execution_count": 8,
   "metadata": {},
   "outputs": [],
   "source": [
    "# save raw train and test sets\n",
    "X_train.to_csv('X_train.csv', index=False)\n",
    "X_test.to_csv('X_test.csv', index=False)"
   ]
  },
  {
   "cell_type": "code",
   "execution_count": 9,
   "metadata": {},
   "outputs": [],
   "source": [
    "# drop target from training and testing sets\n",
    "X_train = X_train.drop('repeat', axis=1)\n",
    "X_test = X_test.drop('repeat', axis=1)"
   ]
  },
  {
   "cell_type": "markdown",
   "metadata": {},
   "source": [
    "# 3.- Feature Engineering\n",
    "\n",
    "We will load the pre-processing pipeline we developed in a previous notebook."
   ]
  },
  {
   "cell_type": "code",
   "execution_count": 10,
   "metadata": {},
   "outputs": [],
   "source": [
    "# load pre-processing pipeline\n",
    "preprocess = joblib.load('preprocessing.pkl')"
   ]
  },
  {
   "cell_type": "code",
   "execution_count": 11,
   "metadata": {},
   "outputs": [],
   "source": [
    "df_train = preprocess.transform(X_train)"
   ]
  },
  {
   "cell_type": "code",
   "execution_count": 12,
   "metadata": {},
   "outputs": [],
   "source": [
    "df_test = preprocess.transform(X_test)"
   ]
  },
  {
   "cell_type": "markdown",
   "metadata": {},
   "source": [
    "# 4.- Get predictions\n",
    "\n",
    "We will load the random forest classifier trained in a previous notebook to score our imputed & encoded data."
   ]
  },
  {
   "cell_type": "code",
   "execution_count": 13,
   "metadata": {},
   "outputs": [],
   "source": [
    "rf = joblib.load('model.pkl')"
   ]
  },
  {
   "cell_type": "code",
   "execution_count": 14,
   "metadata": {},
   "outputs": [],
   "source": [
    "# make predictions on the train set\n",
    "y_train_pred = rf.predict(df_train)"
   ]
  },
  {
   "cell_type": "code",
   "execution_count": 15,
   "metadata": {},
   "outputs": [],
   "source": [
    "# make predictions on the train set\n",
    "y_test_pred = rf.predict(df_test)"
   ]
  },
  {
   "cell_type": "markdown",
   "metadata": {},
   "source": [
    "## 4.1.- Evaluate predictions"
   ]
  },
  {
   "cell_type": "code",
   "execution_count": 16,
   "metadata": {},
   "outputs": [],
   "source": [
    "def evaluate(model, test_features, test_labels):\n",
    "    \n",
    "    \"\"\"    \n",
    "    A function to assess a classification model's performance\n",
    "    \n",
    "    -------------------------------\n",
    "    model: model to be evaluated\n",
    "    test_features: features to be fed to the model\n",
    "    test_labels: known outcomes\n",
    "    \"\"\"\n",
    "    \n",
    "    # precision & recall\n",
    "    predictions = model.predict(test_features)\n",
    "    precision = precision_score(test_labels, predictions)\n",
    "    recall = recall_score(test_labels, predictions)   \n",
    "    f1 = f1_score(test_labels, predictions)\n",
    "   \n",
    "    # log-loss\n",
    "    probabilities = model.predict_proba(test_features)\n",
    "    \n",
    "    # keep the predictions for class 1 only\n",
    "    probabilities = probabilities[:, 1]\n",
    "    \n",
    "    # calculate log loss\n",
    "    loss = log_loss(test_labels, probabilities)\n",
    "    \n",
    "    print('Precision = {:0.2f}.'.format(precision))\n",
    "    print('Recall = {:0.2f}.'.format(recall))\n",
    "    print('F1 = {:0.4f}.'.format(f1))\n",
    "    print('LogLoss = {:0.4f}.'.format(loss))"
   ]
  },
  {
   "cell_type": "code",
   "execution_count": 17,
   "metadata": {},
   "outputs": [
    {
     "name": "stdout",
     "output_type": "stream",
     "text": [
      "Precision = 1.00.\n",
      "Recall = 1.00.\n",
      "F1 = 0.9992.\n",
      "LogLoss = 0.0004.\n"
     ]
    }
   ],
   "source": [
    "evaluate(rf, df_train, y_train)"
   ]
  },
  {
   "cell_type": "code",
   "execution_count": 18,
   "metadata": {},
   "outputs": [
    {
     "name": "stdout",
     "output_type": "stream",
     "text": [
      "Precision = 0.98.\n",
      "Recall = 0.19.\n",
      "F1 = 0.3158.\n",
      "LogLoss = 0.4092.\n"
     ]
    }
   ],
   "source": [
    "evaluate(rf, df_test, y_test)"
   ]
  },
  {
   "cell_type": "markdown",
   "metadata": {},
   "source": [
    "The precision, recall, F1 and logloss values we obtain are the very same ones we observed when training the model - we have complete reproducibility."
   ]
  },
  {
   "cell_type": "markdown",
   "metadata": {},
   "source": [
    "## 4.2.- Prediction threshold verification\n",
    "\n",
    "We will now verify the prediction threshold to be used - in this case it should be the default: 0.5"
   ]
  },
  {
   "cell_type": "code",
   "execution_count": 19,
   "metadata": {},
   "outputs": [],
   "source": [
    "results = rf.predict_proba(df_test)\n",
    "predictions = pd.DataFrame({'0': results[:, 0], '1':results[:, 1]})"
   ]
  },
  {
   "cell_type": "code",
   "execution_count": 20,
   "metadata": {},
   "outputs": [],
   "source": [
    "# the prediction threshold is 0.5\n",
    "y_pred = (predictions.iloc[:,1] >= 0.5).astype(int)"
   ]
  },
  {
   "cell_type": "code",
   "execution_count": 21,
   "metadata": {},
   "outputs": [],
   "source": [
    "precision = precision_score(y_test, y_pred)\n",
    "recall = recall_score(y_test, y_pred)   \n",
    "f1 = f1_score(y_test, y_pred)"
   ]
  },
  {
   "cell_type": "code",
   "execution_count": 22,
   "metadata": {},
   "outputs": [
    {
     "name": "stdout",
     "output_type": "stream",
     "text": [
      "Precision = 0.98.\n",
      "Recall = 0.19.\n",
      "F1 = 0.3158.\n"
     ]
    }
   ],
   "source": [
    "print('Precision = {:0.2f}.'.format(precision))\n",
    "print('Recall = {:0.2f}.'.format(recall))\n",
    "print('F1 = {:0.4f}.'.format(f1))"
   ]
  },
  {
   "cell_type": "markdown",
   "metadata": {},
   "source": [
    "We see that the same precision, accuracy and F1 values are obtained - therefore we have ensured that the threshold to be used in production must be 0.5"
   ]
  }
 ],
 "metadata": {
  "kernelspec": {
   "display_name": "Python 3",
   "language": "python",
   "name": "python3"
  },
  "language_info": {
   "codemirror_mode": {
    "name": "ipython",
    "version": 3
   },
   "file_extension": ".py",
   "mimetype": "text/x-python",
   "name": "python",
   "nbconvert_exporter": "python",
   "pygments_lexer": "ipython3",
   "version": "3.8.3"
  },
  "toc": {
   "nav_menu": {},
   "number_sections": true,
   "sideBar": true,
   "skip_h1_title": false,
   "toc_cell": false,
   "toc_position": {
    "height": "583px",
    "left": "0px",
    "right": "1324px",
    "top": "107px",
    "width": "212px"
   },
   "toc_section_display": "block",
   "toc_window_display": true
  }
 },
 "nbformat": 4,
 "nbformat_minor": 2
}
